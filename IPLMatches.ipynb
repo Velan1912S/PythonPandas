{
 "cells": [
  {
   "cell_type": "code",
   "execution_count": 1,
   "id": "f0f7607c",
   "metadata": {},
   "outputs": [],
   "source": [
    "#Pandas"
   ]
  },
  {
   "cell_type": "code",
   "execution_count": 8,
   "id": "fd7be555",
   "metadata": {},
   "outputs": [],
   "source": [
    "import pandas as pd\n",
    "import numpy as np"
   ]
  },
  {
   "cell_type": "code",
   "execution_count": 3,
   "id": "f0ad521b",
   "metadata": {},
   "outputs": [],
   "source": [
    "df=pd.read_csv(\"iplmatches.csv\",index_col=0)"
   ]
  },
  {
   "cell_type": "code",
   "execution_count": 4,
   "id": "08c86c1b",
   "metadata": {},
   "outputs": [
    {
     "data": {
      "text/html": [
       "<div>\n",
       "<style scoped>\n",
       "    .dataframe tbody tr th:only-of-type {\n",
       "        vertical-align: middle;\n",
       "    }\n",
       "\n",
       "    .dataframe tbody tr th {\n",
       "        vertical-align: top;\n",
       "    }\n",
       "\n",
       "    .dataframe thead th {\n",
       "        text-align: right;\n",
       "    }\n",
       "</style>\n",
       "<table border=\"1\" class=\"dataframe\">\n",
       "  <thead>\n",
       "    <tr style=\"text-align: right;\">\n",
       "      <th></th>\n",
       "      <th>City</th>\n",
       "      <th>Date</th>\n",
       "      <th>Season</th>\n",
       "      <th>MatchNumber</th>\n",
       "      <th>Team1</th>\n",
       "      <th>Team2</th>\n",
       "      <th>Venue</th>\n",
       "      <th>TossWinner</th>\n",
       "      <th>TossDecision</th>\n",
       "      <th>SuperOver</th>\n",
       "      <th>WinningTeam</th>\n",
       "      <th>WonBy</th>\n",
       "      <th>Margin</th>\n",
       "      <th>method</th>\n",
       "      <th>Player_of_Match</th>\n",
       "      <th>Team1Players</th>\n",
       "      <th>Team2Players</th>\n",
       "      <th>Umpire1</th>\n",
       "      <th>Umpire2</th>\n",
       "    </tr>\n",
       "    <tr>\n",
       "      <th>ID</th>\n",
       "      <th></th>\n",
       "      <th></th>\n",
       "      <th></th>\n",
       "      <th></th>\n",
       "      <th></th>\n",
       "      <th></th>\n",
       "      <th></th>\n",
       "      <th></th>\n",
       "      <th></th>\n",
       "      <th></th>\n",
       "      <th></th>\n",
       "      <th></th>\n",
       "      <th></th>\n",
       "      <th></th>\n",
       "      <th></th>\n",
       "      <th></th>\n",
       "      <th></th>\n",
       "      <th></th>\n",
       "      <th></th>\n",
       "    </tr>\n",
       "  </thead>\n",
       "  <tbody>\n",
       "    <tr>\n",
       "      <th>1312200</th>\n",
       "      <td>Ahmedabad</td>\n",
       "      <td>2022-05-29</td>\n",
       "      <td>2022</td>\n",
       "      <td>Final</td>\n",
       "      <td>Rajasthan Royals</td>\n",
       "      <td>Gujarat Titans</td>\n",
       "      <td>Narendra Modi Stadium, Ahmedabad</td>\n",
       "      <td>Rajasthan Royals</td>\n",
       "      <td>bat</td>\n",
       "      <td>N</td>\n",
       "      <td>Gujarat Titans</td>\n",
       "      <td>Wickets</td>\n",
       "      <td>7.0</td>\n",
       "      <td>NaN</td>\n",
       "      <td>HH Pandya</td>\n",
       "      <td>['YBK Jaiswal', 'JC Buttler', 'SV Samson', 'D ...</td>\n",
       "      <td>['WP Saha', 'Shubman Gill', 'MS Wade', 'HH Pan...</td>\n",
       "      <td>CB Gaffaney</td>\n",
       "      <td>Nitin Menon</td>\n",
       "    </tr>\n",
       "    <tr>\n",
       "      <th>1312199</th>\n",
       "      <td>Ahmedabad</td>\n",
       "      <td>2022-05-27</td>\n",
       "      <td>2022</td>\n",
       "      <td>Qualifier 2</td>\n",
       "      <td>Royal Challengers Bangalore</td>\n",
       "      <td>Rajasthan Royals</td>\n",
       "      <td>Narendra Modi Stadium, Ahmedabad</td>\n",
       "      <td>Rajasthan Royals</td>\n",
       "      <td>field</td>\n",
       "      <td>N</td>\n",
       "      <td>Rajasthan Royals</td>\n",
       "      <td>Wickets</td>\n",
       "      <td>7.0</td>\n",
       "      <td>NaN</td>\n",
       "      <td>JC Buttler</td>\n",
       "      <td>['V Kohli', 'F du Plessis', 'RM Patidar', 'GJ ...</td>\n",
       "      <td>['YBK Jaiswal', 'JC Buttler', 'SV Samson', 'D ...</td>\n",
       "      <td>CB Gaffaney</td>\n",
       "      <td>Nitin Menon</td>\n",
       "    </tr>\n",
       "    <tr>\n",
       "      <th>1312198</th>\n",
       "      <td>Kolkata</td>\n",
       "      <td>2022-05-25</td>\n",
       "      <td>2022</td>\n",
       "      <td>Eliminator</td>\n",
       "      <td>Royal Challengers Bangalore</td>\n",
       "      <td>Lucknow Super Giants</td>\n",
       "      <td>Eden Gardens, Kolkata</td>\n",
       "      <td>Lucknow Super Giants</td>\n",
       "      <td>field</td>\n",
       "      <td>N</td>\n",
       "      <td>Royal Challengers Bangalore</td>\n",
       "      <td>Runs</td>\n",
       "      <td>14.0</td>\n",
       "      <td>NaN</td>\n",
       "      <td>RM Patidar</td>\n",
       "      <td>['V Kohli', 'F du Plessis', 'RM Patidar', 'GJ ...</td>\n",
       "      <td>['Q de Kock', 'KL Rahul', 'M Vohra', 'DJ Hooda...</td>\n",
       "      <td>J Madanagopal</td>\n",
       "      <td>MA Gough</td>\n",
       "    </tr>\n",
       "    <tr>\n",
       "      <th>1312197</th>\n",
       "      <td>Kolkata</td>\n",
       "      <td>2022-05-24</td>\n",
       "      <td>2022</td>\n",
       "      <td>Qualifier 1</td>\n",
       "      <td>Rajasthan Royals</td>\n",
       "      <td>Gujarat Titans</td>\n",
       "      <td>Eden Gardens, Kolkata</td>\n",
       "      <td>Gujarat Titans</td>\n",
       "      <td>field</td>\n",
       "      <td>N</td>\n",
       "      <td>Gujarat Titans</td>\n",
       "      <td>Wickets</td>\n",
       "      <td>7.0</td>\n",
       "      <td>NaN</td>\n",
       "      <td>DA Miller</td>\n",
       "      <td>['YBK Jaiswal', 'JC Buttler', 'SV Samson', 'D ...</td>\n",
       "      <td>['WP Saha', 'Shubman Gill', 'MS Wade', 'HH Pan...</td>\n",
       "      <td>BNJ Oxenford</td>\n",
       "      <td>VK Sharma</td>\n",
       "    </tr>\n",
       "    <tr>\n",
       "      <th>1304116</th>\n",
       "      <td>Mumbai</td>\n",
       "      <td>2022-05-22</td>\n",
       "      <td>2022</td>\n",
       "      <td>70</td>\n",
       "      <td>Sunrisers Hyderabad</td>\n",
       "      <td>Punjab Kings</td>\n",
       "      <td>Wankhede Stadium, Mumbai</td>\n",
       "      <td>Sunrisers Hyderabad</td>\n",
       "      <td>bat</td>\n",
       "      <td>N</td>\n",
       "      <td>Punjab Kings</td>\n",
       "      <td>Wickets</td>\n",
       "      <td>5.0</td>\n",
       "      <td>NaN</td>\n",
       "      <td>Harpreet Brar</td>\n",
       "      <td>['PK Garg', 'Abhishek Sharma', 'RA Tripathi', ...</td>\n",
       "      <td>['JM Bairstow', 'S Dhawan', 'M Shahrukh Khan',...</td>\n",
       "      <td>AK Chaudhary</td>\n",
       "      <td>NA Patwardhan</td>\n",
       "    </tr>\n",
       "    <tr>\n",
       "      <th>...</th>\n",
       "      <td>...</td>\n",
       "      <td>...</td>\n",
       "      <td>...</td>\n",
       "      <td>...</td>\n",
       "      <td>...</td>\n",
       "      <td>...</td>\n",
       "      <td>...</td>\n",
       "      <td>...</td>\n",
       "      <td>...</td>\n",
       "      <td>...</td>\n",
       "      <td>...</td>\n",
       "      <td>...</td>\n",
       "      <td>...</td>\n",
       "      <td>...</td>\n",
       "      <td>...</td>\n",
       "      <td>...</td>\n",
       "      <td>...</td>\n",
       "      <td>...</td>\n",
       "      <td>...</td>\n",
       "    </tr>\n",
       "    <tr>\n",
       "      <th>335986</th>\n",
       "      <td>Kolkata</td>\n",
       "      <td>2008-04-20</td>\n",
       "      <td>2007/08</td>\n",
       "      <td>4</td>\n",
       "      <td>Kolkata Knight Riders</td>\n",
       "      <td>Deccan Chargers</td>\n",
       "      <td>Eden Gardens</td>\n",
       "      <td>Deccan Chargers</td>\n",
       "      <td>bat</td>\n",
       "      <td>N</td>\n",
       "      <td>Kolkata Knight Riders</td>\n",
       "      <td>Wickets</td>\n",
       "      <td>5.0</td>\n",
       "      <td>NaN</td>\n",
       "      <td>DJ Hussey</td>\n",
       "      <td>['WP Saha', 'BB McCullum', 'RT Ponting', 'SC G...</td>\n",
       "      <td>['AC Gilchrist', 'Y Venugopal Rao', 'VVS Laxma...</td>\n",
       "      <td>BF Bowden</td>\n",
       "      <td>K Hariharan</td>\n",
       "    </tr>\n",
       "    <tr>\n",
       "      <th>335985</th>\n",
       "      <td>Mumbai</td>\n",
       "      <td>2008-04-20</td>\n",
       "      <td>2007/08</td>\n",
       "      <td>5</td>\n",
       "      <td>Mumbai Indians</td>\n",
       "      <td>Royal Challengers Bangalore</td>\n",
       "      <td>Wankhede Stadium</td>\n",
       "      <td>Mumbai Indians</td>\n",
       "      <td>bat</td>\n",
       "      <td>N</td>\n",
       "      <td>Royal Challengers Bangalore</td>\n",
       "      <td>Wickets</td>\n",
       "      <td>5.0</td>\n",
       "      <td>NaN</td>\n",
       "      <td>MV Boucher</td>\n",
       "      <td>['L Ronchi', 'ST Jayasuriya', 'DJ Thornely', '...</td>\n",
       "      <td>['S Chanderpaul', 'R Dravid', 'LRPL Taylor', '...</td>\n",
       "      <td>SJ Davis</td>\n",
       "      <td>DJ Harper</td>\n",
       "    </tr>\n",
       "    <tr>\n",
       "      <th>335984</th>\n",
       "      <td>Delhi</td>\n",
       "      <td>2008-04-19</td>\n",
       "      <td>2007/08</td>\n",
       "      <td>3</td>\n",
       "      <td>Delhi Daredevils</td>\n",
       "      <td>Rajasthan Royals</td>\n",
       "      <td>Feroz Shah Kotla</td>\n",
       "      <td>Rajasthan Royals</td>\n",
       "      <td>bat</td>\n",
       "      <td>N</td>\n",
       "      <td>Delhi Daredevils</td>\n",
       "      <td>Wickets</td>\n",
       "      <td>9.0</td>\n",
       "      <td>NaN</td>\n",
       "      <td>MF Maharoof</td>\n",
       "      <td>['G Gambhir', 'V Sehwag', 'S Dhawan', 'MK Tiwa...</td>\n",
       "      <td>['T Kohli', 'YK Pathan', 'SR Watson', 'M Kaif'...</td>\n",
       "      <td>Aleem Dar</td>\n",
       "      <td>GA Pratapkumar</td>\n",
       "    </tr>\n",
       "    <tr>\n",
       "      <th>335983</th>\n",
       "      <td>Chandigarh</td>\n",
       "      <td>2008-04-19</td>\n",
       "      <td>2007/08</td>\n",
       "      <td>2</td>\n",
       "      <td>Kings XI Punjab</td>\n",
       "      <td>Chennai Super Kings</td>\n",
       "      <td>Punjab Cricket Association Stadium, Mohali</td>\n",
       "      <td>Chennai Super Kings</td>\n",
       "      <td>bat</td>\n",
       "      <td>N</td>\n",
       "      <td>Chennai Super Kings</td>\n",
       "      <td>Runs</td>\n",
       "      <td>33.0</td>\n",
       "      <td>NaN</td>\n",
       "      <td>MEK Hussey</td>\n",
       "      <td>['K Goel', 'JR Hopes', 'KC Sangakkara', 'Yuvra...</td>\n",
       "      <td>['PA Patel', 'ML Hayden', 'MEK Hussey', 'MS Dh...</td>\n",
       "      <td>MR Benson</td>\n",
       "      <td>SL Shastri</td>\n",
       "    </tr>\n",
       "    <tr>\n",
       "      <th>335982</th>\n",
       "      <td>Bangalore</td>\n",
       "      <td>2008-04-18</td>\n",
       "      <td>2007/08</td>\n",
       "      <td>1</td>\n",
       "      <td>Royal Challengers Bangalore</td>\n",
       "      <td>Kolkata Knight Riders</td>\n",
       "      <td>M Chinnaswamy Stadium</td>\n",
       "      <td>Royal Challengers Bangalore</td>\n",
       "      <td>field</td>\n",
       "      <td>N</td>\n",
       "      <td>Kolkata Knight Riders</td>\n",
       "      <td>Runs</td>\n",
       "      <td>140.0</td>\n",
       "      <td>NaN</td>\n",
       "      <td>BB McCullum</td>\n",
       "      <td>['R Dravid', 'W Jaffer', 'V Kohli', 'JH Kallis...</td>\n",
       "      <td>['SC Ganguly', 'BB McCullum', 'RT Ponting', 'D...</td>\n",
       "      <td>Asad Rauf</td>\n",
       "      <td>RE Koertzen</td>\n",
       "    </tr>\n",
       "  </tbody>\n",
       "</table>\n",
       "<p>950 rows × 19 columns</p>\n",
       "</div>"
      ],
      "text/plain": [
       "               City        Date   Season  MatchNumber  \\\n",
       "ID                                                      \n",
       "1312200   Ahmedabad  2022-05-29     2022        Final   \n",
       "1312199   Ahmedabad  2022-05-27     2022  Qualifier 2   \n",
       "1312198     Kolkata  2022-05-25     2022   Eliminator   \n",
       "1312197     Kolkata  2022-05-24     2022  Qualifier 1   \n",
       "1304116      Mumbai  2022-05-22     2022           70   \n",
       "...             ...         ...      ...          ...   \n",
       "335986      Kolkata  2008-04-20  2007/08            4   \n",
       "335985       Mumbai  2008-04-20  2007/08            5   \n",
       "335984        Delhi  2008-04-19  2007/08            3   \n",
       "335983   Chandigarh  2008-04-19  2007/08            2   \n",
       "335982    Bangalore  2008-04-18  2007/08            1   \n",
       "\n",
       "                               Team1                        Team2  \\\n",
       "ID                                                                  \n",
       "1312200             Rajasthan Royals               Gujarat Titans   \n",
       "1312199  Royal Challengers Bangalore             Rajasthan Royals   \n",
       "1312198  Royal Challengers Bangalore         Lucknow Super Giants   \n",
       "1312197             Rajasthan Royals               Gujarat Titans   \n",
       "1304116          Sunrisers Hyderabad                 Punjab Kings   \n",
       "...                              ...                          ...   \n",
       "335986         Kolkata Knight Riders              Deccan Chargers   \n",
       "335985                Mumbai Indians  Royal Challengers Bangalore   \n",
       "335984              Delhi Daredevils             Rajasthan Royals   \n",
       "335983               Kings XI Punjab          Chennai Super Kings   \n",
       "335982   Royal Challengers Bangalore        Kolkata Knight Riders   \n",
       "\n",
       "                                              Venue  \\\n",
       "ID                                                    \n",
       "1312200            Narendra Modi Stadium, Ahmedabad   \n",
       "1312199            Narendra Modi Stadium, Ahmedabad   \n",
       "1312198                       Eden Gardens, Kolkata   \n",
       "1312197                       Eden Gardens, Kolkata   \n",
       "1304116                    Wankhede Stadium, Mumbai   \n",
       "...                                             ...   \n",
       "335986                                 Eden Gardens   \n",
       "335985                             Wankhede Stadium   \n",
       "335984                             Feroz Shah Kotla   \n",
       "335983   Punjab Cricket Association Stadium, Mohali   \n",
       "335982                        M Chinnaswamy Stadium   \n",
       "\n",
       "                          TossWinner TossDecision SuperOver  \\\n",
       "ID                                                            \n",
       "1312200             Rajasthan Royals          bat         N   \n",
       "1312199             Rajasthan Royals        field         N   \n",
       "1312198         Lucknow Super Giants        field         N   \n",
       "1312197               Gujarat Titans        field         N   \n",
       "1304116          Sunrisers Hyderabad          bat         N   \n",
       "...                              ...          ...       ...   \n",
       "335986               Deccan Chargers          bat         N   \n",
       "335985                Mumbai Indians          bat         N   \n",
       "335984              Rajasthan Royals          bat         N   \n",
       "335983           Chennai Super Kings          bat         N   \n",
       "335982   Royal Challengers Bangalore        field         N   \n",
       "\n",
       "                         WinningTeam    WonBy  Margin method Player_of_Match  \\\n",
       "ID                                                                             \n",
       "1312200               Gujarat Titans  Wickets     7.0    NaN       HH Pandya   \n",
       "1312199             Rajasthan Royals  Wickets     7.0    NaN      JC Buttler   \n",
       "1312198  Royal Challengers Bangalore     Runs    14.0    NaN      RM Patidar   \n",
       "1312197               Gujarat Titans  Wickets     7.0    NaN       DA Miller   \n",
       "1304116                 Punjab Kings  Wickets     5.0    NaN   Harpreet Brar   \n",
       "...                              ...      ...     ...    ...             ...   \n",
       "335986         Kolkata Knight Riders  Wickets     5.0    NaN       DJ Hussey   \n",
       "335985   Royal Challengers Bangalore  Wickets     5.0    NaN      MV Boucher   \n",
       "335984              Delhi Daredevils  Wickets     9.0    NaN     MF Maharoof   \n",
       "335983           Chennai Super Kings     Runs    33.0    NaN      MEK Hussey   \n",
       "335982         Kolkata Knight Riders     Runs   140.0    NaN     BB McCullum   \n",
       "\n",
       "                                              Team1Players  \\\n",
       "ID                                                           \n",
       "1312200  ['YBK Jaiswal', 'JC Buttler', 'SV Samson', 'D ...   \n",
       "1312199  ['V Kohli', 'F du Plessis', 'RM Patidar', 'GJ ...   \n",
       "1312198  ['V Kohli', 'F du Plessis', 'RM Patidar', 'GJ ...   \n",
       "1312197  ['YBK Jaiswal', 'JC Buttler', 'SV Samson', 'D ...   \n",
       "1304116  ['PK Garg', 'Abhishek Sharma', 'RA Tripathi', ...   \n",
       "...                                                    ...   \n",
       "335986   ['WP Saha', 'BB McCullum', 'RT Ponting', 'SC G...   \n",
       "335985   ['L Ronchi', 'ST Jayasuriya', 'DJ Thornely', '...   \n",
       "335984   ['G Gambhir', 'V Sehwag', 'S Dhawan', 'MK Tiwa...   \n",
       "335983   ['K Goel', 'JR Hopes', 'KC Sangakkara', 'Yuvra...   \n",
       "335982   ['R Dravid', 'W Jaffer', 'V Kohli', 'JH Kallis...   \n",
       "\n",
       "                                              Team2Players        Umpire1  \\\n",
       "ID                                                                          \n",
       "1312200  ['WP Saha', 'Shubman Gill', 'MS Wade', 'HH Pan...    CB Gaffaney   \n",
       "1312199  ['YBK Jaiswal', 'JC Buttler', 'SV Samson', 'D ...    CB Gaffaney   \n",
       "1312198  ['Q de Kock', 'KL Rahul', 'M Vohra', 'DJ Hooda...  J Madanagopal   \n",
       "1312197  ['WP Saha', 'Shubman Gill', 'MS Wade', 'HH Pan...   BNJ Oxenford   \n",
       "1304116  ['JM Bairstow', 'S Dhawan', 'M Shahrukh Khan',...   AK Chaudhary   \n",
       "...                                                    ...            ...   \n",
       "335986   ['AC Gilchrist', 'Y Venugopal Rao', 'VVS Laxma...      BF Bowden   \n",
       "335985   ['S Chanderpaul', 'R Dravid', 'LRPL Taylor', '...       SJ Davis   \n",
       "335984   ['T Kohli', 'YK Pathan', 'SR Watson', 'M Kaif'...      Aleem Dar   \n",
       "335983   ['PA Patel', 'ML Hayden', 'MEK Hussey', 'MS Dh...      MR Benson   \n",
       "335982   ['SC Ganguly', 'BB McCullum', 'RT Ponting', 'D...      Asad Rauf   \n",
       "\n",
       "                Umpire2  \n",
       "ID                       \n",
       "1312200     Nitin Menon  \n",
       "1312199     Nitin Menon  \n",
       "1312198        MA Gough  \n",
       "1312197       VK Sharma  \n",
       "1304116   NA Patwardhan  \n",
       "...                 ...  \n",
       "335986      K Hariharan  \n",
       "335985        DJ Harper  \n",
       "335984   GA Pratapkumar  \n",
       "335983       SL Shastri  \n",
       "335982      RE Koertzen  \n",
       "\n",
       "[950 rows x 19 columns]"
      ]
     },
     "execution_count": 4,
     "metadata": {},
     "output_type": "execute_result"
    }
   ],
   "source": [
    "df"
   ]
  },
  {
   "cell_type": "code",
   "execution_count": 5,
   "id": "68af3c76",
   "metadata": {},
   "outputs": [
    {
     "data": {
      "text/plain": [
       "Index(['City', 'Date', 'Season', 'MatchNumber', 'Team1', 'Team2', 'Venue',\n",
       "       'TossWinner', 'TossDecision', 'SuperOver', 'WinningTeam', 'WonBy',\n",
       "       'Margin', 'method', 'Player_of_Match', 'Team1Players', 'Team2Players',\n",
       "       'Umpire1', 'Umpire2'],\n",
       "      dtype='object')"
      ]
     },
     "execution_count": 5,
     "metadata": {},
     "output_type": "execute_result"
    }
   ],
   "source": [
    "df.columns"
   ]
  },
  {
   "cell_type": "code",
   "execution_count": 12,
   "id": "7dd58360",
   "metadata": {},
   "outputs": [
    {
     "data": {
      "text/html": [
       "<div>\n",
       "<style scoped>\n",
       "    .dataframe tbody tr th:only-of-type {\n",
       "        vertical-align: middle;\n",
       "    }\n",
       "\n",
       "    .dataframe tbody tr th {\n",
       "        vertical-align: top;\n",
       "    }\n",
       "\n",
       "    .dataframe thead th {\n",
       "        text-align: right;\n",
       "    }\n",
       "</style>\n",
       "<table border=\"1\" class=\"dataframe\">\n",
       "  <thead>\n",
       "    <tr style=\"text-align: right;\">\n",
       "      <th></th>\n",
       "      <th>SuperOver</th>\n",
       "      <th>WinningTeam</th>\n",
       "    </tr>\n",
       "    <tr>\n",
       "      <th>ID</th>\n",
       "      <th></th>\n",
       "      <th></th>\n",
       "    </tr>\n",
       "  </thead>\n",
       "  <tbody>\n",
       "    <tr>\n",
       "      <th>1312200</th>\n",
       "      <td>N</td>\n",
       "      <td>Gujarat Titans</td>\n",
       "    </tr>\n",
       "    <tr>\n",
       "      <th>1312199</th>\n",
       "      <td>N</td>\n",
       "      <td>Rajasthan Royals</td>\n",
       "    </tr>\n",
       "    <tr>\n",
       "      <th>1312198</th>\n",
       "      <td>N</td>\n",
       "      <td>Royal Challengers Bangalore</td>\n",
       "    </tr>\n",
       "    <tr>\n",
       "      <th>1312197</th>\n",
       "      <td>N</td>\n",
       "      <td>Gujarat Titans</td>\n",
       "    </tr>\n",
       "    <tr>\n",
       "      <th>1304116</th>\n",
       "      <td>N</td>\n",
       "      <td>Punjab Kings</td>\n",
       "    </tr>\n",
       "    <tr>\n",
       "      <th>...</th>\n",
       "      <td>...</td>\n",
       "      <td>...</td>\n",
       "    </tr>\n",
       "    <tr>\n",
       "      <th>335986</th>\n",
       "      <td>N</td>\n",
       "      <td>Kolkata Knight Riders</td>\n",
       "    </tr>\n",
       "    <tr>\n",
       "      <th>335985</th>\n",
       "      <td>N</td>\n",
       "      <td>Royal Challengers Bangalore</td>\n",
       "    </tr>\n",
       "    <tr>\n",
       "      <th>335984</th>\n",
       "      <td>N</td>\n",
       "      <td>Delhi Daredevils</td>\n",
       "    </tr>\n",
       "    <tr>\n",
       "      <th>335983</th>\n",
       "      <td>N</td>\n",
       "      <td>Chennai Super Kings</td>\n",
       "    </tr>\n",
       "    <tr>\n",
       "      <th>335982</th>\n",
       "      <td>N</td>\n",
       "      <td>Kolkata Knight Riders</td>\n",
       "    </tr>\n",
       "  </tbody>\n",
       "</table>\n",
       "<p>950 rows × 2 columns</p>\n",
       "</div>"
      ],
      "text/plain": [
       "        SuperOver                  WinningTeam\n",
       "ID                                            \n",
       "1312200         N               Gujarat Titans\n",
       "1312199         N             Rajasthan Royals\n",
       "1312198         N  Royal Challengers Bangalore\n",
       "1312197         N               Gujarat Titans\n",
       "1304116         N                 Punjab Kings\n",
       "...           ...                          ...\n",
       "335986          N        Kolkata Knight Riders\n",
       "335985          N  Royal Challengers Bangalore\n",
       "335984          N             Delhi Daredevils\n",
       "335983          N          Chennai Super Kings\n",
       "335982          N        Kolkata Knight Riders\n",
       "\n",
       "[950 rows x 2 columns]"
      ]
     },
     "execution_count": 12,
     "metadata": {},
     "output_type": "execute_result"
    }
   ],
   "source": [
    "df[['SuperOver','WinningTeam']]"
   ]
  },
  {
   "cell_type": "code",
   "execution_count": 94,
   "id": "2522cb97",
   "metadata": {},
   "outputs": [
    {
     "name": "stdout",
     "output_type": "stream",
     "text": [
      "<class 'pandas.core.frame.DataFrame'>\n",
      "Index: 950 entries, 1312200 to 335982\n",
      "Data columns (total 19 columns):\n",
      " #   Column           Non-Null Count  Dtype  \n",
      "---  ------           --------------  -----  \n",
      " 0   City             899 non-null    object \n",
      " 1   Date             950 non-null    object \n",
      " 2   Season           950 non-null    object \n",
      " 3   MatchNumber      950 non-null    object \n",
      " 4   Team1            950 non-null    object \n",
      " 5   Team2            950 non-null    object \n",
      " 6   Venue            950 non-null    object \n",
      " 7   TossWinner       950 non-null    object \n",
      " 8   TossDecision     950 non-null    object \n",
      " 9   SuperOver        946 non-null    object \n",
      " 10  WinningTeam      946 non-null    object \n",
      " 11  WonBy            950 non-null    object \n",
      " 12  Margin           932 non-null    float64\n",
      " 13  method           19 non-null     object \n",
      " 14  Player_of_Match  946 non-null    object \n",
      " 15  Team1Players     950 non-null    object \n",
      " 16  Team2Players     950 non-null    object \n",
      " 17  Umpire1          950 non-null    object \n",
      " 18  Umpire2          950 non-null    object \n",
      "dtypes: float64(1), object(18)\n",
      "memory usage: 180.7+ KB\n"
     ]
    }
   ],
   "source": [
    "df.info()"
   ]
  },
  {
   "cell_type": "code",
   "execution_count": 96,
   "id": "c88e6983",
   "metadata": {},
   "outputs": [
    {
     "data": {
      "text/plain": [
       "City                51\n",
       "Date                 0\n",
       "Season               0\n",
       "MatchNumber          0\n",
       "Team1                0\n",
       "Team2                0\n",
       "Venue                0\n",
       "TossWinner           0\n",
       "TossDecision         0\n",
       "SuperOver            4\n",
       "WinningTeam          4\n",
       "WonBy                0\n",
       "Margin              18\n",
       "method             931\n",
       "Player_of_Match      4\n",
       "Team1Players         0\n",
       "Team2Players         0\n",
       "Umpire1              0\n",
       "Umpire2              0\n",
       "dtype: int64"
      ]
     },
     "execution_count": 96,
     "metadata": {},
     "output_type": "execute_result"
    }
   ],
   "source": [
    "np.sum(df.isnull())"
   ]
  },
  {
   "cell_type": "code",
   "execution_count": 120,
   "id": "6db04d50",
   "metadata": {},
   "outputs": [],
   "source": [
    "dfc=df.copy()"
   ]
  },
  {
   "cell_type": "code",
   "execution_count": 121,
   "id": "90208a2c",
   "metadata": {},
   "outputs": [],
   "source": [
    "dfc.drop(['method'],axis=1,inplace=True)"
   ]
  },
  {
   "cell_type": "code",
   "execution_count": 122,
   "id": "e5efd8ca",
   "metadata": {
    "scrolled": true
   },
   "outputs": [
    {
     "name": "stdout",
     "output_type": "stream",
     "text": [
      "<class 'pandas.core.frame.DataFrame'>\n",
      "Index: 950 entries, 1312200 to 335982\n",
      "Data columns (total 18 columns):\n",
      " #   Column           Non-Null Count  Dtype  \n",
      "---  ------           --------------  -----  \n",
      " 0   City             899 non-null    object \n",
      " 1   Date             950 non-null    object \n",
      " 2   Season           950 non-null    object \n",
      " 3   MatchNumber      950 non-null    object \n",
      " 4   Team1            950 non-null    object \n",
      " 5   Team2            950 non-null    object \n",
      " 6   Venue            950 non-null    object \n",
      " 7   TossWinner       950 non-null    object \n",
      " 8   TossDecision     950 non-null    object \n",
      " 9   SuperOver        946 non-null    object \n",
      " 10  WinningTeam      946 non-null    object \n",
      " 11  WonBy            950 non-null    object \n",
      " 12  Margin           932 non-null    float64\n",
      " 13  Player_of_Match  946 non-null    object \n",
      " 14  Team1Players     950 non-null    object \n",
      " 15  Team2Players     950 non-null    object \n",
      " 16  Umpire1          950 non-null    object \n",
      " 17  Umpire2          950 non-null    object \n",
      "dtypes: float64(1), object(17)\n",
      "memory usage: 173.3+ KB\n"
     ]
    }
   ],
   "source": [
    "dfc.info()"
   ]
  },
  {
   "cell_type": "code",
   "execution_count": 123,
   "id": "76fc2199",
   "metadata": {},
   "outputs": [
    {
     "data": {
      "text/plain": [
       "array(['Chennai Super Kings', 'Deccan Chargers', 'Delhi Capitals',\n",
       "       'Delhi Daredevils', 'Gujarat Lions', 'Gujarat Titans',\n",
       "       'Kings XI Punjab', 'Kochi Tuskers Kerala', 'Kolkata Knight Riders',\n",
       "       'Lucknow Super Giants', 'Mumbai Indians', 'Pune Warriors',\n",
       "       'Punjab Kings', 'Rajasthan Royals', 'Rising Pune Supergiant',\n",
       "       'Rising Pune Supergiants', 'Royal Challengers Bangalore',\n",
       "       'Sunrisers Hyderabad'], dtype=object)"
      ]
     },
     "execution_count": 123,
     "metadata": {},
     "output_type": "execute_result"
    }
   ],
   "source": [
    "np.unique(dfc['Team1'])"
   ]
  },
  {
   "cell_type": "code",
   "execution_count": 124,
   "id": "42396025",
   "metadata": {},
   "outputs": [
    {
     "data": {
      "text/plain": [
       "ID\n",
       "1312200              Narendra Modi Stadium, Ahmedabad\n",
       "1312199              Narendra Modi Stadium, Ahmedabad\n",
       "1312198                         Eden Gardens, Kolkata\n",
       "1312197                         Eden Gardens, Kolkata\n",
       "1304116                      Wankhede Stadium, Mumbai\n",
       "                              ...                    \n",
       "335986                                   Eden Gardens\n",
       "335985                               Wankhede Stadium\n",
       "335984                               Feroz Shah Kotla\n",
       "335983     Punjab Cricket Association Stadium, Mohali\n",
       "335982                          M Chinnaswamy Stadium\n",
       "Name: Venue, Length: 950, dtype: object"
      ]
     },
     "execution_count": 124,
     "metadata": {},
     "output_type": "execute_result"
    }
   ],
   "source": [
    "dfc['Venue']"
   ]
  },
  {
   "cell_type": "code",
   "execution_count": 125,
   "id": "dc8f21f6",
   "metadata": {},
   "outputs": [
    {
     "name": "stdout",
     "output_type": "stream",
     "text": [
      "<class 'pandas.core.frame.DataFrame'>\n",
      "Index: 950 entries, 1312200 to 335982\n",
      "Data columns (total 18 columns):\n",
      " #   Column           Non-Null Count  Dtype  \n",
      "---  ------           --------------  -----  \n",
      " 0   City             899 non-null    object \n",
      " 1   Date             950 non-null    object \n",
      " 2   Season           950 non-null    object \n",
      " 3   MatchNumber      950 non-null    object \n",
      " 4   Team1            950 non-null    object \n",
      " 5   Team2            950 non-null    object \n",
      " 6   Venue            950 non-null    object \n",
      " 7   TossWinner       950 non-null    object \n",
      " 8   TossDecision     950 non-null    object \n",
      " 9   SuperOver        946 non-null    object \n",
      " 10  WinningTeam      946 non-null    object \n",
      " 11  WonBy            950 non-null    object \n",
      " 12  Margin           932 non-null    float64\n",
      " 13  Player_of_Match  946 non-null    object \n",
      " 14  Team1Players     950 non-null    object \n",
      " 15  Team2Players     950 non-null    object \n",
      " 16  Umpire1          950 non-null    object \n",
      " 17  Umpire2          950 non-null    object \n",
      "dtypes: float64(1), object(17)\n",
      "memory usage: 173.3+ KB\n"
     ]
    }
   ],
   "source": [
    "dfc.info()"
   ]
  },
  {
   "cell_type": "code",
   "execution_count": 65,
   "id": "c456c539",
   "metadata": {},
   "outputs": [],
   "source": [
    "dfc['City']=dfc['City'].astype(dtype=object)"
   ]
  },
  {
   "cell_type": "code",
   "execution_count": 128,
   "id": "638e4472",
   "metadata": {},
   "outputs": [],
   "source": [
    "dfc.dropna(subset=['SuperOver'],inplace=True)"
   ]
  },
  {
   "cell_type": "code",
   "execution_count": 127,
   "id": "bd4b0505",
   "metadata": {},
   "outputs": [
    {
     "data": {
      "text/plain": [
       "'Mumbai'"
      ]
     },
     "execution_count": 127,
     "metadata": {},
     "output_type": "execute_result"
    }
   ],
   "source": [
    "dfc['City'].mode()[0]"
   ]
  },
  {
   "cell_type": "code",
   "execution_count": 130,
   "id": "29cb0541",
   "metadata": {},
   "outputs": [],
   "source": [
    "dfc['City'].fillna(dfc['City'].mode()[0],inplace=True)"
   ]
  },
  {
   "cell_type": "code",
   "execution_count": 133,
   "id": "61c7a090",
   "metadata": {},
   "outputs": [],
   "source": [
    "dfc['Margin'].fillna(dfc['Margin'].median(),inplace=True)"
   ]
  },
  {
   "cell_type": "code",
   "execution_count": 134,
   "id": "df5991e1",
   "metadata": {},
   "outputs": [
    {
     "name": "stdout",
     "output_type": "stream",
     "text": [
      "<class 'pandas.core.frame.DataFrame'>\n",
      "Index: 946 entries, 1312200 to 335982\n",
      "Data columns (total 18 columns):\n",
      " #   Column           Non-Null Count  Dtype  \n",
      "---  ------           --------------  -----  \n",
      " 0   City             946 non-null    object \n",
      " 1   Date             946 non-null    object \n",
      " 2   Season           946 non-null    object \n",
      " 3   MatchNumber      946 non-null    object \n",
      " 4   Team1            946 non-null    object \n",
      " 5   Team2            946 non-null    object \n",
      " 6   Venue            946 non-null    object \n",
      " 7   TossWinner       946 non-null    object \n",
      " 8   TossDecision     946 non-null    object \n",
      " 9   SuperOver        946 non-null    object \n",
      " 10  WinningTeam      946 non-null    object \n",
      " 11  WonBy            946 non-null    object \n",
      " 12  Margin           946 non-null    float64\n",
      " 13  Player_of_Match  946 non-null    object \n",
      " 14  Team1Players     946 non-null    object \n",
      " 15  Team2Players     946 non-null    object \n",
      " 16  Umpire1          946 non-null    object \n",
      " 17  Umpire2          946 non-null    object \n",
      "dtypes: float64(1), object(17)\n",
      "memory usage: 140.4+ KB\n"
     ]
    }
   ],
   "source": [
    "dfc.info()"
   ]
  },
  {
   "cell_type": "code",
   "execution_count": 136,
   "id": "3f5b9ec3",
   "metadata": {},
   "outputs": [
    {
     "data": {
      "text/plain": [
       "array(['N', 'Y'], dtype=object)"
      ]
     },
     "execution_count": 136,
     "metadata": {},
     "output_type": "execute_result"
    }
   ],
   "source": [
    "np.unique(dfc['SuperOver'])"
   ]
  },
  {
   "cell_type": "code",
   "execution_count": 139,
   "id": "2db15ee8",
   "metadata": {},
   "outputs": [
    {
     "data": {
      "text/plain": [
       "(array([114, 158, 159, 184, 192, 203, 243, 338, 471, 530, 605, 618, 815,\n",
       "        879], dtype=int64),)"
      ]
     },
     "execution_count": 139,
     "metadata": {},
     "output_type": "execute_result"
    }
   ],
   "source": [
    "np.where(dfc['SuperOver']=='Y')"
   ]
  },
  {
   "cell_type": "code",
   "execution_count": 142,
   "id": "060374ff",
   "metadata": {},
   "outputs": [
    {
     "data": {
      "text/plain": [
       "(array([114, 158, 159, 184, 192, 203, 243, 338, 471, 530, 605, 618, 815,\n",
       "        879], dtype=int64),)"
      ]
     },
     "execution_count": 142,
     "metadata": {},
     "output_type": "execute_result"
    }
   ],
   "source": [
    "np.where(dfc['SuperOver']=='Y') #superovers"
   ]
  },
  {
   "cell_type": "code",
   "execution_count": 156,
   "id": "2b8eeb84",
   "metadata": {},
   "outputs": [],
   "source": [
    "dfc.reset_index(inplace=True)"
   ]
  },
  {
   "cell_type": "code",
   "execution_count": 157,
   "id": "14fdb9e8",
   "metadata": {},
   "outputs": [
    {
     "data": {
      "text/plain": [
       "RangeIndex(start=0, stop=946, step=1)"
      ]
     },
     "execution_count": 157,
     "metadata": {},
     "output_type": "execute_result"
    }
   ],
   "source": [
    "dfc.index"
   ]
  },
  {
   "cell_type": "code",
   "execution_count": 154,
   "id": "0cb0b2ae",
   "metadata": {},
   "outputs": [
    {
     "data": {
      "text/plain": [
       "'Y'"
      ]
     },
     "execution_count": 154,
     "metadata": {},
     "output_type": "execute_result"
    }
   ],
   "source": [
    "dfc.loc[114,'SuperOver']"
   ]
  },
  {
   "cell_type": "code",
   "execution_count": 212,
   "id": "3471c42d",
   "metadata": {},
   "outputs": [
    {
     "name": "stdout",
     "output_type": "stream",
     "text": [
      "Delhi Capitals VS Sunrisers Hyderabad = Delhi Capitals\n",
      "Kolkata Knight Riders VS Sunrisers Hyderabad = Kolkata Knight Riders\n",
      "Mumbai Indians VS Kings XI Punjab = Kings XI Punjab\n",
      "Royal Challengers Bangalore VS Mumbai Indians = Royal Challengers Bangalore\n",
      "Delhi Capitals VS Kings XI Punjab = Delhi Capitals\n",
      "Mumbai Indians VS Sunrisers Hyderabad = Mumbai Indians\n",
      "Kolkata Knight Riders VS Delhi Capitals = Delhi Capitals\n",
      "Gujarat Lions VS Mumbai Indians = Mumbai Indians\n",
      "Rajasthan Royals VS Kings XI Punjab = Kings XI Punjab\n",
      "Kolkata Knight Riders VS Rajasthan Royals = Rajasthan Royals\n",
      "Royal Challengers Bangalore VS Delhi Daredevils = Royal Challengers Bangalore\n",
      "Sunrisers Hyderabad VS Royal Challengers Bangalore = Sunrisers Hyderabad\n",
      "Chennai Super Kings VS Kings XI Punjab = Kings XI Punjab\n",
      "Kolkata Knight Riders VS Rajasthan Royals = Rajasthan Royals\n"
     ]
    }
   ],
   "source": [
    "v=[]\n",
    "w=[]\n",
    "for i in np.nditer(np.where(dfc['SuperOver']=='Y')):\n",
    "    print(dfc.loc[i,'Team1'],'VS',dfc.loc[i,'Team2']+\" = \"+dfc.loc[i,'WinningTeam'])\n",
    "    v.append(dfc.loc[i,'Venue'])\n",
    "    w.append(dfc.loc[i,'WinningTeam'])\n",
    "spvenuewin=np.array([v,w])"
   ]
  },
  {
   "cell_type": "code",
   "execution_count": 169,
   "id": "87882644",
   "metadata": {},
   "outputs": [
    {
     "data": {
      "text/plain": [
       "array(['Chennai Super Kings', 'Deccan Chargers', 'Delhi Capitals',\n",
       "       'Delhi Daredevils', 'Gujarat Lions', 'Gujarat Titans',\n",
       "       'Kings XI Punjab', 'Kochi Tuskers Kerala', 'Kolkata Knight Riders',\n",
       "       'Lucknow Super Giants', 'Mumbai Indians', 'Pune Warriors',\n",
       "       'Punjab Kings', 'Rajasthan Royals', 'Rising Pune Supergiant',\n",
       "       'Rising Pune Supergiants', 'Royal Challengers Bangalore',\n",
       "       'Sunrisers Hyderabad'], dtype=object)"
      ]
     },
     "execution_count": 169,
     "metadata": {},
     "output_type": "execute_result"
    }
   ],
   "source": [
    "np.unique(dfc['WinningTeam'])"
   ]
  },
  {
   "cell_type": "code",
   "execution_count": 174,
   "id": "0159b928",
   "metadata": {},
   "outputs": [
    {
     "data": {
      "text/plain": [
       "121"
      ]
     },
     "execution_count": 174,
     "metadata": {},
     "output_type": "execute_result"
    }
   ],
   "source": [
    "len(np.where(dfc['WinningTeam']=='Chennai Super Kings')[0])"
   ]
  },
  {
   "cell_type": "code",
   "execution_count": 177,
   "id": "aa85c20e",
   "metadata": {},
   "outputs": [],
   "source": [
    "def WinningIndex(Team):\n",
    "    return np.where(dfc['WinningTeam']==Team)\n",
    "    \n"
   ]
  },
  {
   "cell_type": "code",
   "execution_count": 205,
   "id": "7297b4dd",
   "metadata": {},
   "outputs": [
    {
     "name": "stdout",
     "output_type": "stream",
     "text": [
      "N\n",
      "N\n",
      "N\n",
      "N\n",
      "N\n",
      "N\n",
      "N\n",
      "N\n",
      "N\n",
      "N\n",
      "N\n",
      "N\n",
      "N\n",
      "N\n",
      "N\n",
      "N\n",
      "N\n",
      "N\n",
      "N\n",
      "N\n",
      "N\n",
      "N\n",
      "N\n",
      "N\n",
      "N\n",
      "N\n",
      "N\n",
      "N\n",
      "N\n",
      "N\n",
      "N\n",
      "N\n",
      "N\n",
      "N\n",
      "N\n",
      "N\n",
      "N\n",
      "N\n",
      "N\n",
      "N\n"
     ]
    }
   ],
   "source": [
    "for i in np.nditer(WinningIndex('Chennai Super Kings')):\n",
    "    if(dfc.loc[i,'Venue']=='Chennai'):\n",
    "        print(dfc.loc[i,'SuperOver'])"
   ]
  },
  {
   "cell_type": "code",
   "execution_count": 200,
   "id": "c3820a1c",
   "metadata": {},
   "outputs": [
    {
     "data": {
      "text/plain": [
       "array(['Arun Jaitley Stadium', 'Arun Jaitley Stadium, Delhi',\n",
       "       'Barabati Stadium', 'Brabourne Stadium',\n",
       "       'Brabourne Stadium, Mumbai', 'Buffalo Park', 'Chennai',\n",
       "       'De Beers Diamond Oval', 'Dr DY Patil Sports Academy',\n",
       "       'Dr DY Patil Sports Academy, Mumbai',\n",
       "       'Dr. Y.S. Rajasekhara Reddy ACA-VDCA Cricket Stadium',\n",
       "       'Dubai International Cricket Stadium', 'Eden Gardens',\n",
       "       'Eden Gardens, Kolkata', 'Feroz Shah Kotla', 'Green Park',\n",
       "       'Himachal Pradesh Cricket Association Stadium',\n",
       "       'Holkar Cricket Stadium', 'JSCA International Stadium Complex',\n",
       "       'Kingsmead', 'M Chinnaswamy Stadium', 'M.Chinnaswamy Stadium',\n",
       "       'Maharashtra Cricket Association Stadium',\n",
       "       'Maharashtra Cricket Association Stadium, Pune',\n",
       "       'Narendra Modi Stadium, Ahmedabad', 'Nehru Stadium',\n",
       "       'New Wanderers Stadium', 'Newlands', 'OUTsurance Oval',\n",
       "       'Punjab Cricket Association IS Bindra Stadium',\n",
       "       'Punjab Cricket Association IS Bindra Stadium, Mohali',\n",
       "       'Punjab Cricket Association Stadium, Mohali',\n",
       "       'Rajiv Gandhi International Stadium',\n",
       "       'Rajiv Gandhi International Stadium, Uppal',\n",
       "       'Sardar Patel Stadium, Motera',\n",
       "       'Saurashtra Cricket Association Stadium', 'Sawai Mansingh Stadium',\n",
       "       'Shaheed Veer Narayan Singh International Stadium',\n",
       "       'Sharjah Cricket Stadium', 'Sheikh Zayed Stadium',\n",
       "       \"St George's Park\", 'Subrata Roy Sahara Stadium',\n",
       "       'SuperSport Park', 'Vidarbha Cricket Association Stadium, Jamtha',\n",
       "       'Wankhede Stadium', 'Wankhede Stadium, Mumbai',\n",
       "       'Zayed Cricket Stadium, Abu Dhabi'], dtype=object)"
      ]
     },
     "execution_count": 200,
     "metadata": {},
     "output_type": "execute_result"
    }
   ],
   "source": [
    "np.unique(dfc['Venue'])"
   ]
  },
  {
   "cell_type": "code",
   "execution_count": 199,
   "id": "3c422048",
   "metadata": {},
   "outputs": [],
   "source": [
    "dfc['Venue'].replace(\"MA Chidambaram Stadium, Chepauk, Chennai\",\"Chennai\",inplace=True)"
   ]
  },
  {
   "cell_type": "code",
   "execution_count": 211,
   "id": "f345fb57",
   "metadata": {},
   "outputs": [
    {
     "data": {
      "text/plain": [
       "array([['Chennai', 'Sheikh Zayed Stadium',\n",
       "        'Dubai International Cricket Stadium',\n",
       "        'Dubai International Cricket Stadium',\n",
       "        'Dubai International Cricket Stadium', 'Wankhede Stadium',\n",
       "        'Arun Jaitley Stadium', 'Saurashtra Cricket Association Stadium',\n",
       "        'Sardar Patel Stadium, Motera', 'Sheikh Zayed Stadium',\n",
       "        'M Chinnaswamy Stadium',\n",
       "        'Rajiv Gandhi International Stadium, Uppal', 'Chennai',\n",
       "        'Newlands'],\n",
       "       ['Delhi Capitals', 'Kolkata Knight Riders', 'Kings XI Punjab',\n",
       "        'Royal Challengers Bangalore', 'Delhi Capitals',\n",
       "        'Mumbai Indians', 'Delhi Capitals', 'Mumbai Indians',\n",
       "        'Kings XI Punjab', 'Rajasthan Royals',\n",
       "        'Royal Challengers Bangalore', 'Sunrisers Hyderabad',\n",
       "        'Kings XI Punjab', 'Rajasthan Royals']], dtype='<U41')"
      ]
     },
     "execution_count": 211,
     "metadata": {},
     "output_type": "execute_result"
    }
   ],
   "source": [
    "spvenuewin"
   ]
  },
  {
   "cell_type": "code",
   "execution_count": null,
   "id": "4c8b23e4",
   "metadata": {},
   "outputs": [],
   "source": []
  }
 ],
 "metadata": {
  "kernelspec": {
   "display_name": "Python 3 (ipykernel)",
   "language": "python",
   "name": "python3"
  },
  "language_info": {
   "codemirror_mode": {
    "name": "ipython",
    "version": 3
   },
   "file_extension": ".py",
   "mimetype": "text/x-python",
   "name": "python",
   "nbconvert_exporter": "python",
   "pygments_lexer": "ipython3",
   "version": "3.11.2"
  }
 },
 "nbformat": 4,
 "nbformat_minor": 5
}
